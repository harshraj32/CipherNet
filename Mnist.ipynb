{
  "nbformat": 4,
  "nbformat_minor": 0,
  "metadata": {
    "colab": {
      "name": "Untitled2.ipynb",
      "provenance": [],
      "collapsed_sections": []
    },
    "kernelspec": {
      "name": "python3",
      "display_name": "Python 3"
    },
    "language_info": {
      "name": "python"
    }
  },
  "cells": [
    {
      "cell_type": "code",
      "metadata": {
        "colab": {
          "base_uri": "https://localhost:8080/",
          "height": 518
        },
        "id": "UXSLUqdAcGNv",
        "outputId": "fb98a3ae-260b-4bf4-e4eb-b0a50d37b202"
      },
      "source": [
        "\n",
        "import torch\n",
        "from torchvision import datasets\n",
        "import torchvision.transforms as transforms\n",
        "import numpy as np\n",
        "import datetime\n",
        "import time\n",
        "from torch.utils.tensorboard import SummaryWriter\n",
        "import matplotlib.pyplot as plt\n",
        "\n",
        "val_losses = []\n",
        "train_losses = []\n",
        "\n",
        "torch.manual_seed(73)\n",
        "\n",
        "train_data = datasets.MNIST(r'./mnist', train=True, download=True, transform=transforms.ToTensor())\n",
        "test_data = datasets.MNIST(r'./mnist', train=False, download=True, transform=transforms.ToTensor())\n",
        "\n",
        "\n",
        "batch_size = 64\n",
        "train_loader = torch.utils.data.DataLoader(train_data, batch_size=batch_size, shuffle=True)\n",
        "test_loader = torch.utils.data.DataLoader(test_data, batch_size=batch_size, shuffle=True)\n",
        "\n",
        "class ConvNet(torch.nn.Module):\n",
        "    def __init__(self, hidden=64, output=10):\n",
        "        super(ConvNet, self).__init__()        \n",
        "        self.conv1 = torch.nn.Conv2d(1, 4, kernel_size=7, padding=0, stride=3)\n",
        "        self.fc1 = torch.nn.Linear(256, hidden)\n",
        "        self.fc2 = torch.nn.Linear(hidden, output)\n",
        "\n",
        "    def forward(self, x):\n",
        "        x = self.conv1(x)\n",
        "        # the model uses the square activation function\n",
        "        x = x * x\n",
        "        # flattening while keeping the batch axis\n",
        "        x = x.view(-1, 256)\n",
        "        x = self.fc1(x)\n",
        "        x = x * x\n",
        "        x = self.fc2(x)\n",
        "        return x\n",
        "\n",
        "\n",
        "def train(model, train_loader, criterion, optimizer, n_epochs=10):\n",
        "    # model in training mode\n",
        "    \n",
        "    model.train()\n",
        "    for epoch in range(1, n_epochs+1):\n",
        "\n",
        "        train_loss = 0.0\n",
        "        for data, target in train_loader:\n",
        "            optimizer.zero_grad()\n",
        "            output = model(data)\n",
        "            loss = criterion(output, target)\n",
        "            # writer.add_scalar('BaseModel/Loss/train', train_loss, epoch)\n",
        "            loss.backward()\n",
        "            optimizer.step()\n",
        "            train_loss += loss.item()\n",
        "            \n",
        "            train_losses.append(loss.item())\n",
        "           \n",
        "\n",
        "\n",
        "\n",
        "        \n",
        "\n",
        "        # calculate average losses\n",
        "        train_loss = train_loss / len(train_loader)\n",
        "\n",
        "        print('Epoch: {} \\tTraining Loss: {:.6f}'.format(epoch, train_loss))\n",
        "    \n",
        "    # model in evaluation mode\n",
        "\n",
        "    model.eval()\n",
        "    return model\n",
        "\n",
        "\n",
        "model = ConvNet()\n",
        "criterion = torch.nn.CrossEntropyLoss()\n",
        "optimizer = torch.optim.Adam(model.parameters(), lr=0.001)\n",
        "model = train(model, train_loader, criterion, optimizer, 10)\n",
        "plt.figure(figsize=(10,5))\n",
        "plt.title(\"Training and Validation Loss\")\n",
        "\n",
        "plt.plot(train_losses,label=\"train\")\n",
        "plt.xlabel(\"iterations\")\n",
        "plt.ylabel(\"Loss\")\n",
        "plt.legend()\n",
        "plt.show()"
      ],
      "execution_count": 31,
      "outputs": [
        {
          "output_type": "stream",
          "text": [
            "Epoch: 1 \tTraining Loss: 0.392145\n",
            "Epoch: 2 \tTraining Loss: 0.131439\n",
            "Epoch: 3 \tTraining Loss: 0.090824\n",
            "Epoch: 4 \tTraining Loss: 0.070182\n",
            "Epoch: 5 \tTraining Loss: 0.059312\n",
            "Epoch: 6 \tTraining Loss: 0.049882\n",
            "Epoch: 7 \tTraining Loss: 0.045489\n",
            "Epoch: 8 \tTraining Loss: 0.038417\n",
            "Epoch: 9 \tTraining Loss: 0.035735\n",
            "Epoch: 10 \tTraining Loss: 0.031736\n"
          ],
          "name": "stdout"
        },
        {
          "output_type": "display_data",
          "data": {
            "image/png": "[encoded data removed]",
            "text/plain": [
              "<Figure size 720x360 with 1 Axes>"
            ]
          },
          "metadata": {
            "tags": [],
            "needs_background": "light"
          }
        }
      ]
    },
    {
      "cell_type": "code",
      "metadata": {
        "colab": {
          "base_uri": "https://localhost:8080/",
          "height": 530
        },
        "id": "PnYbbGWDdCPA",
        "outputId": "20df40e3-05b1-46b7-ff02-7d658945eb08"
      },
      "source": [
        "acc = [] \n",
        "def test(model, test_loader, criterion):\n",
        "    # initialize lists to monitor test loss and accuracy\n",
        "    test_loss = 0.0\n",
        "    class_correct = list(0. for i in range(10))\n",
        "    class_total = list(0. for i in range(10))\n",
        "\n",
        "    # model in evaluation mode\n",
        "    model.eval()\n",
        "\n",
        "    for data, target in test_loader:\n",
        "        output = model(data)\n",
        "        loss = criterion(output, target)\n",
        "        test_loss += loss.item()\n",
        "        # convert output probabilities to predicted class\n",
        "        _, pred = torch.max(output, 1)\n",
        "        # compare predictions to true label\n",
        "        correct = np.squeeze(pred.eq(target.data.view_as(pred)))\n",
        "        # calculate test accuracy for each object class\n",
        "        for i in range(len(target)):\n",
        "            label = target.data[i]\n",
        "            class_correct[label] += correct[i].item()\n",
        "            class_total[label] += 1\n",
        "\n",
        "    # calculate and print avg test loss\n",
        "    test_loss = test_loss/len(test_loader)\n",
        "    print(f'Test Loss: {test_loss:.6f}\\n')\n",
        "\n",
        "    for label in range(10):\n",
        "        print(\n",
        "            f'Test Accuracy of {label}: {int(100 * class_correct[label] / class_total[label])}% '\n",
        "            f'({int(np.sum(class_correct[label]))}/{int(np.sum(class_total[label]))})'\n",
        "        )\n",
        "        if(label == 0):\n",
        "          acc.append(0.25)\n",
        "        else:\n",
        "          acc.append(class_correct[label] / class_total[label])\n",
        "\n",
        "    print(\n",
        "        f'\\nTest Accuracy (Overall): {int(100 * np.sum(class_correct) / np.sum(class_total))}% ' \n",
        "        f'({int(np.sum(class_correct))}/{int(np.sum(class_total))})'\n",
        "    )\n",
        "test(model, test_loader, criterion)\n",
        "plt.title(\"Validation Accuracy\")\n",
        "\n",
        "plt.plot(acc,label=\"train\")\n",
        "plt.xlabel(\"iterations\")\n",
        "# plt.ylim(0.5,0.99)\n",
        "plt.xlim(0,10)\n",
        "plt.ylabel(\"Accuracy\")\n",
        "plt.legend()\n",
        "plt.show()\n",
        "# print(acc)"
      ],
      "execution_count": 35,
      "outputs": [
        {
          "output_type": "stream",
          "text": [
            "Test Loss: 0.084722\n",
            "\n",
            "Test Accuracy of 0: 99% (971/980)\n",
            "Test Accuracy of 1: 99% (1131/1135)\n",
            "Test Accuracy of 2: 97% (1007/1032)\n",
            "Test Accuracy of 3: 98% (990/1010)\n",
            "Test Accuracy of 4: 97% (962/982)\n",
            "Test Accuracy of 5: 98% (876/892)\n",
            "Test Accuracy of 6: 98% (945/958)\n",
            "Test Accuracy of 7: 96% (997/1028)\n",
            "Test Accuracy of 8: 96% (941/974)\n",
            "Test Accuracy of 9: 96% (972/1009)\n",
            "\n",
            "Test Accuracy (Overall): 97% (9792/10000)\n"
          ],
          "name": "stdout"
        },
        {
          "output_type": "display_data",
          "data": {
            "image/png": "[encoded data removed]",
            "text/plain": [
              "<Figure size 432x288 with 1 Axes>"
            ]
          },
          "metadata": {
            "tags": [],
            "needs_background": "light"
          }
        }
      ]
    },
    {
      "cell_type": "code",
      "metadata": {
        "colab": {
          "base_uri": "https://localhost:8080/"
        },
        "id": "r6HHGrSmXlwj",
        "outputId": "54836592-ce55-4644-e729-9432df54a4d8"
      },
      "source": [
        "part_te = torch.utils.data.random_split(test_data, [600, len(test_data)-600])[0]\n",
        "test_loader_split = torch.utils.data.DataLoader(part_te, batch_size=batch_size, shuffle=True)\n",
        "print(len(part_te))"
      ],
      "execution_count": 12,
      "outputs": [
        {
          "output_type": "stream",
          "text": [
            "600\n"
          ],
          "name": "stdout"
        }
      ]
    },
    {
      "cell_type": "code",
      "metadata": {
        "colab": {
          "base_uri": "https://localhost:8080/"
        },
        "id": "E6_vVy6xdcfX",
        "outputId": "551abd5e-5067-4312-f589-4a5052137783"
      },
      "source": [
        "!pip install tenseal"
      ],
      "execution_count": 13,
      "outputs": [
        {
          "output_type": "stream",
          "text": [
            "Collecting tenseal\n",
            "\u001b[?25l  Downloading https://files.pythonhosted.org/packages/b8/3b/a5ddd8fc61fbeecf4f964784e863573cd164eaccda1035141a1f13081abe/tenseal-0.3.2-cp37-cp37m-manylinux2014_x86_64.whl (4.7MB)\n",
            "\u001b[K     |████████████████████████████████| 4.7MB 5.4MB/s \n",
            "\u001b[?25hInstalling collected packages: tenseal\n",
            "Successfully installed tenseal-0.3.2\n"
          ],
          "name": "stdout"
        }
      ]
    },
    {
      "cell_type": "code",
      "metadata": {
        "id": "8PT7Q_2r9upK"
      },
      "source": [
        "enc_val_loss = []\n",
        "enc_acc = []"
      ],
      "execution_count": 15,
      "outputs": []
    },
    {
      "cell_type": "code",
      "metadata": {
        "id": "c7773YZbdHpr"
      },
      "source": [
        "\n",
        "\"\"\"\n",
        "It's a PyTorch-like model using operations implemented in TenSEAL.\n",
        "    - .mm() method is doing the vector-matrix multiplication explained above.\n",
        "    - you can use + operator to add a plain vector as a bias.\n",
        "    - .conv2d_im2col() method is doing a single convlution operation.\n",
        "    - .square_() just square the encrypted vector inplace.\n",
        "\"\"\"\n",
        "\n",
        "import tenseal as ts\n",
        "\n",
        "\n",
        "class EncConvNet:\n",
        "    def __init__(self, torch_nn):\n",
        "        self.conv1_weight = torch_nn.conv1.weight.data.view(\n",
        "            torch_nn.conv1.out_channels, torch_nn.conv1.kernel_size[0],\n",
        "            torch_nn.conv1.kernel_size[1]\n",
        "        ).tolist()\n",
        "        self.conv1_bias = torch_nn.conv1.bias.data.tolist()\n",
        "        \n",
        "        self.fc1_weight = torch_nn.fc1.weight.T.data.tolist()\n",
        "        self.fc1_bias = torch_nn.fc1.bias.data.tolist()\n",
        "        \n",
        "        self.fc2_weight = torch_nn.fc2.weight.T.data.tolist()\n",
        "        self.fc2_bias = torch_nn.fc2.bias.data.tolist()\n",
        "        \n",
        "        \n",
        "    def forward(self, enc_x, windows_nb):\n",
        "        # conv layer\n",
        "        enc_channels = []\n",
        "        for kernel, bias in zip(self.conv1_weight, self.conv1_bias):\n",
        "            y = enc_x.conv2d_im2col(kernel, windows_nb) + bias\n",
        "            enc_channels.append(y)\n",
        "        # pack all channels into a single flattened vector\n",
        "        enc_x = ts.CKKSVector.pack_vectors(enc_channels)\n",
        "        # square activation\n",
        "        enc_x.square_()\n",
        "        # fc1 layer\n",
        "        enc_x = enc_x.mm(self.fc1_weight) + self.fc1_bias\n",
        "        # square activation\n",
        "        enc_x.square_()\n",
        "        # fc2 layer\n",
        "        enc_x = enc_x.mm(self.fc2_weight) + self.fc2_bias\n",
        "        return enc_x\n",
        "    \n",
        "    def __call__(self, *args, **kwargs):\n",
        "        return self.forward(*args, **kwargs)\n",
        "\n",
        "    \n",
        "def enc_test(context, model, test_loader, criterion, kernel_shape, stride):\n",
        "    # initialize lists to monitor test loss and accuracy\n",
        "    test_loss = 0.0\n",
        "    class_correct = list(0. for i in range(10))\n",
        "    class_total = list(0. for i in range(10))\n",
        "    i = 0\n",
        "    for data, target in test_loader:\n",
        "        # Encoding and encryption\n",
        "        i=i+1\n",
        "        if(i%10 == 0):\n",
        "          \n",
        "          t1 = time.time()\n",
        "          st = datetime.datetime.fromtimestamp(t1).strftime('%H:%M:%S')\n",
        "          print(\"test numbers done: \",i, \"in\",st)\n",
        "        x_enc, windows_nb = ts.im2col_encoding(\n",
        "            context, data.view(28, 28).tolist(), kernel_shape[0],\n",
        "            kernel_shape[1], stride\n",
        "        )\n",
        "        \n",
        "        # Encrypted evaluation\n",
        "        enc_output = enc_model(x_enc, windows_nb)\n",
        "        # Decryption of result\n",
        "        output = enc_output.decrypt()\n",
        "        output = torch.tensor(output).view(1, -1)\n",
        "        \n",
        "        # compute loss\n",
        "        loss = criterion(output, target)\n",
        "        test_loss += loss.item()\n",
        "        enc_val_loss.append(loss.item())\n",
        "        # convert output probabilities to predicted class\n",
        "        _, pred = torch.max(output, 1)\n",
        "        # compare predictions to true label\n",
        "        correct = np.squeeze(pred.eq(target.data.view_as(pred)))\n",
        "        # calculate test accuracy for each object class\n",
        "        label = target.data[0]\n",
        "        class_correct[label] += correct.item()\n",
        "        class_total[label] += 1\n",
        "\n",
        "\n",
        "    # calculate and print avg test loss\n",
        "    test_loss = test_loss / sum(class_total)\n",
        "    print(f'Test Loss: {test_loss:.6f}\\n')\n",
        "\n",
        "    for label in range(10):\n",
        "        print(\n",
        "            f'Test Accuracy of {label}: {int(100 * class_correct[label] / class_total[label])}% '\n",
        "            f'({int(np.sum(class_correct[label]))}/{int(np.sum(class_total[label]))})'\n",
        "        )\n",
        "        if(label == 0):\n",
        "          enc_acc.append(0)\n",
        "        else:\n",
        "          enc_acc.append(class_correct[label] / class_total[label])\n",
        "        \n",
        "\n",
        "    print(\n",
        "        f'\\nTest Accuracy (Overall): {int(100 * np.sum(class_correct) / np.sum(class_total))}% ' \n",
        "        f'({int(np.sum(class_correct))}/{int(np.sum(class_total))})'\n",
        "    )\n",
        "\n",
        "\n",
        "# Load one element at a time\n",
        "test_loader = torch.utils.data.DataLoader(part_te, batch_size=1, shuffle=True)\n",
        "# required for encoding\n",
        "kernel_shape = model.conv1.kernel_size\n",
        "stride = model.conv1.stride[0]"
      ],
      "execution_count": 20,
      "outputs": []
    },
    {
      "cell_type": "code",
      "metadata": {
        "id": "jU0r_kcvdPrZ"
      },
      "source": [
        "## Encryption Parameters\n",
        "\n",
        "# controls precision of the fractional part\n",
        "bits_scale = 26\n",
        "\n",
        "# Create TenSEAL context\n",
        "context = ts.context(\n",
        "    ts.SCHEME_TYPE.CKKS,\n",
        "    poly_modulus_degree=8192,\n",
        "    coeff_mod_bit_sizes=[31, bits_scale, bits_scale, bits_scale, bits_scale, bits_scale, bits_scale, 31]\n",
        ")\n",
        "\n",
        "# set the scale\n",
        "context.global_scale = pow(2, bits_scale)\n",
        "\n",
        "# galois keys are required to do ciphertext rotations\n",
        "context.generate_galois_keys()"
      ],
      "execution_count": 21,
      "outputs": []
    },
    {
      "cell_type": "code",
      "metadata": {
        "id": "pLNLXjWydTug"
      },
      "source": [
        "enc_model = EncConvNet(model)\n",
        "\n"
      ],
      "execution_count": 22,
      "outputs": []
    },
    {
      "cell_type": "code",
      "metadata": {
        "colab": {
          "base_uri": "https://localhost:8080/"
        },
        "id": "Hc3nW3B5dUqH",
        "outputId": "c0826fee-aab8-4ec7-92fb-fd3c9d2e4fd5"
      },
      "source": [
        "enc_test(context, enc_model, test_loader, criterion, kernel_shape, stride)"
      ],
      "execution_count": 24,
      "outputs": [
        {
          "output_type": "stream",
          "text": [
            "test numbers done:  10 in 06:22:05\n",
            "test numbers done:  20 in 06:22:57\n",
            "test numbers done:  30 in 06:23:49\n",
            "test numbers done:  40 in 06:24:41\n",
            "test numbers done:  50 in 06:25:33\n",
            "test numbers done:  60 in 06:26:24\n",
            "test numbers done:  70 in 06:27:16\n",
            "test numbers done:  80 in 06:28:08\n",
            "test numbers done:  90 in 06:29:00\n",
            "test numbers done:  100 in 06:29:52\n",
            "test numbers done:  110 in 06:30:44\n",
            "test numbers done:  120 in 06:31:35\n",
            "test numbers done:  130 in 06:32:26\n",
            "test numbers done:  140 in 06:33:17\n",
            "test numbers done:  150 in 06:34:08\n",
            "test numbers done:  160 in 06:34:59\n",
            "test numbers done:  170 in 06:35:50\n",
            "test numbers done:  180 in 06:36:41\n",
            "test numbers done:  190 in 06:37:32\n",
            "test numbers done:  200 in 06:38:23\n",
            "test numbers done:  210 in 06:39:15\n",
            "test numbers done:  220 in 06:40:06\n",
            "test numbers done:  230 in 06:40:57\n",
            "test numbers done:  240 in 06:41:48\n",
            "test numbers done:  250 in 06:42:39\n",
            "test numbers done:  260 in 06:43:31\n",
            "test numbers done:  270 in 06:44:22\n",
            "test numbers done:  280 in 06:45:14\n",
            "test numbers done:  290 in 06:46:05\n",
            "test numbers done:  300 in 06:46:57\n",
            "test numbers done:  310 in 06:47:48\n",
            "test numbers done:  320 in 06:48:39\n",
            "test numbers done:  330 in 06:49:30\n",
            "test numbers done:  340 in 06:50:22\n",
            "test numbers done:  350 in 06:51:13\n",
            "test numbers done:  360 in 06:52:04\n",
            "test numbers done:  370 in 06:52:55\n",
            "test numbers done:  380 in 06:53:46\n",
            "test numbers done:  390 in 06:54:38\n",
            "test numbers done:  400 in 06:55:29\n",
            "test numbers done:  410 in 06:56:21\n",
            "test numbers done:  420 in 06:57:12\n",
            "test numbers done:  430 in 06:58:04\n",
            "test numbers done:  440 in 06:58:55\n",
            "test numbers done:  450 in 06:59:47\n",
            "test numbers done:  460 in 07:00:39\n",
            "test numbers done:  470 in 07:01:30\n",
            "test numbers done:  480 in 07:02:23\n",
            "test numbers done:  490 in 07:03:15\n",
            "test numbers done:  500 in 07:04:07\n",
            "test numbers done:  510 in 07:05:00\n",
            "test numbers done:  520 in 07:05:52\n",
            "test numbers done:  530 in 07:06:44\n",
            "test numbers done:  540 in 07:07:36\n",
            "test numbers done:  550 in 07:08:29\n",
            "test numbers done:  560 in 07:09:20\n",
            "test numbers done:  570 in 07:10:12\n",
            "test numbers done:  580 in 07:11:03\n",
            "test numbers done:  590 in 07:11:54\n",
            "test numbers done:  600 in 07:12:46\n",
            "Test Loss: 0.065158\n",
            "\n",
            "Test Accuracy of 0: 98% (65/66)\n",
            "Test Accuracy of 1: 100% (74/74)\n",
            "Test Accuracy of 2: 98% (68/69)\n",
            "Test Accuracy of 3: 96% (59/61)\n",
            "Test Accuracy of 4: 98% (55/56)\n",
            "Test Accuracy of 5: 96% (52/54)\n",
            "Test Accuracy of 6: 96% (56/58)\n",
            "Test Accuracy of 7: 98% (59/60)\n",
            "Test Accuracy of 8: 100% (50/50)\n",
            "Test Accuracy of 9: 96% (50/52)\n",
            "\n",
            "Test Accuracy (Overall): 98% (588/600)\n"
          ],
          "name": "stdout"
        }
      ]
    },
    {
      "cell_type": "code",
      "metadata": {
        "colab": {
          "base_uri": "https://localhost:8080/",
          "height": 350
        },
        "id": "qRkECGF3LKBn",
        "outputId": "f30dc4eb-6993-4e0a-9803-fd61649d2e27"
      },
      "source": [
        "plt.figure(figsize=(10,5))\n",
        "plt.title(\"Encryption Validation Loss\")\n",
        "\n",
        "plt.plot(enc_val_loss,label=\"train\")\n",
        "plt.xlabel(\"iterations\")\n",
        "plt.ylabel(\"Loss\")\n",
        "plt.legend()\n",
        "plt.show()"
      ],
      "execution_count": 25,
      "outputs": [
        {
          "output_type": "display_data",
          "data": {
            "image/png": "[encoded data removed]",
            "text/plain": [
              "<Figure size 720x360 with 1 Axes>"
            ]
          },
          "metadata": {
            "tags": [],
            "needs_background": "light"
          }
        }
      ]
    },
    {
      "cell_type": "code",
      "metadata": {
        "colab": {
          "base_uri": "https://localhost:8080/",
          "height": 350
        },
        "id": "m7eZsbzOLco_",
        "outputId": "a78f0b17-b67e-49b8-cec5-5060951aff4e"
      },
      "source": [
        "plt.figure(figsize=(10,5))\n",
        "plt.title(\"Encryption accuracy\")\n",
        "\n",
        "plt.plot(enc_acc,label=\"enc\")\n",
        "plt.plot(acc,label = \"base\")\n",
        "plt.xlabel(\"iterations\")\n",
        "plt.ylabel(\"Loss\")\n",
        "plt.legend()\n",
        "plt.show()"
      ],
      "execution_count": 36,
      "outputs": [
        {
          "output_type": "display_data",
          "data": {
            "image/png": "[encoded data removed]",
            "text/plain": [
              "<Figure size 720x360 with 1 Axes>"
            ]
          },
          "metadata": {
            "tags": [],
            "needs_background": "light"
          }
        }
      ]
    }
  ]
}