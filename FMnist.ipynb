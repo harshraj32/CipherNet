{
  "nbformat": 4,
  "nbformat_minor": 0,
  "metadata": {
    "colab": {
      "name": "Untitled3.ipynb",
      "provenance": []
    },
    "kernelspec": {
      "name": "python3",
      "display_name": "Python 3"
    },
    "language_info": {
      "name": "python"
    }
  },
  "cells": [
    {
      "cell_type": "code",
      "metadata": {
        "colab": {
          "base_uri": "https://localhost:8080/"
        },
        "id": "ctxvBpjrtK9X",
        "outputId": "231844d6-53df-475b-a2c8-6add4b056caa"
      },
      "source": [
        "# initialize tensor and lists to monitor test loss and accuracy\n",
        "test_loss = torch.zeros(1)\n",
        "class_correct = list(0. for i in range(10))\n",
        "class_total = list(0. for i in range(10))\n",
        "\n",
        "# set the module to evaluation mode\n",
        "net.eval()\n",
        "\n",
        "for batch_i, data in enumerate(test_loader):\n",
        "    \n",
        "    # get the input images and their corresponding labels\n",
        "    inputs, labels = data\n",
        "    \n",
        "    # wrap them in a torch Variable\n",
        "    # volatile means we do not have to track how the inputs change\n",
        "    #################################inputs, labels = Variable(inputs, volatile=True), Variable(labels, volatile=True)\n",
        "    with torch.no_grad():            ############### replaced above line deprecated with this one\n",
        "    \n",
        "        # forward pass to get outputs\n",
        "        outputs = net(inputs)\n",
        "\n",
        "        # calculate the loss\n",
        "        loss = criterion(outputs, labels)\n",
        "\n",
        "        # update average test loss \n",
        "        test_loss = test_loss + ((torch.ones(1) / (batch_i + 1)) * (loss.data - test_loss))\n",
        "\n",
        "        # get the predicted class from the maximum value in the output-list of class scores\n",
        "        _, predicted = torch.max(outputs.data, 1)\n",
        "\n",
        "        # compare predictions to true label\n",
        "        correct = np.squeeze(predicted.eq(labels.data.view_as(predicted)))\n",
        "\n",
        "        # calculate test accuracy for *each* object class\n",
        "        # we get the scalar value of correct items for a class, by calling `correct[i].item()`\n",
        "        for i in range(batch_size):\n",
        "            label = labels.data[i]\n",
        "            class_correct[label] += correct[i].item()\n",
        "            class_total[label] += 1\n",
        "\n",
        "        # calculate test accuracy for *each* object class      ########### removed whole duplicate section\n",
        "       #for i in range(batch_size):\n",
        "        #    label = labels.data[i]\n",
        "         #   class_correct[label] += correct[i].item()         ########## added missing .item()\n",
        "          #  class_total[label] += 1\n",
        "\n",
        "print('Test Loss: {:.6f}\\n'.format(test_loss.numpy()[0]))\n",
        "classes = ['T-shirt/top', 'Trouser', 'Pullover', 'Dress', 'Coat', \n",
        "           'Sandal', 'Shirt', 'Sneaker', 'Bag', 'Ankle boot']\n",
        "for i in range(10):\n",
        "    if class_total[i] > 0:\n",
        "        print('Test Accuracy of %5s: %2d%% (%2d/%2d)' % (\n",
        "            classes[i], 100 * class_correct[i] / class_total[i],\n",
        "            np.sum(class_correct[i]), np.sum(class_total[i])))\n",
        "    else:\n",
        "        print('Test Accuracy of %5s: N/A (no training examples)' % (classes[i]))\n",
        "\n",
        "        \n",
        "print('\\nTest Accuracy (Overall): %2d%% (%2d/%2d)' % (\n",
        "    100. * np.sum(class_correct) / np.sum(class_total),\n",
        "    np.sum(class_correct), np.sum(class_total)))"
      ],
      "execution_count": 14,
      "outputs": [
        {
          "output_type": "stream",
          "text": [
            "Test Loss: 0.303786\n",
            "\n",
            "Test Accuracy of T-shirt/top: 81% (811/1000)\n",
            "Test Accuracy of Trouser: 96% (969/1000)\n",
            "Test Accuracy of Pullover: 75% (757/1000)\n",
            "Test Accuracy of Dress: 92% (927/1000)\n",
            "Test Accuracy of  Coat: 86% (867/1000)\n",
            "Test Accuracy of Sandal: 96% (968/1000)\n",
            "Test Accuracy of Shirt: 70% (702/1000)\n",
            "Test Accuracy of Sneaker: 96% (965/1000)\n",
            "Test Accuracy of   Bag: 98% (980/1000)\n",
            "Test Accuracy of Ankle boot: 96% (960/1000)\n",
            "\n",
            "Test Accuracy (Overall): 89% (8906/10000)\n"
          ],
          "name": "stdout"
        }
      ]
    },
    {
      "cell_type": "code",
      "metadata": {
        "colab": {
          "base_uri": "https://localhost:8080/",
          "height": 441
        },
        "id": "QxRd75YMkEdo",
        "outputId": "53c61b82-9455-4a4c-8be5-024fba3aea2d"
      },
      "source": [
        "import torch\n",
        "from torchvision import datasets\n",
        "import torchvision.transforms as transforms\n",
        "from torchvision.datasets import FashionMNIST\n",
        "import numpy as np\n",
        "import datetime\n",
        "import time\n",
        "from torch.utils.tensorboard import SummaryWriter\n",
        "import matplotlib.pyplot as plt\n",
        "\n",
        "val_losses = []\n",
        "train_losses = []\n",
        "\n",
        "torch.manual_seed(73)\n",
        "\n",
        "train_data = FashionMNIST('./fmnist', train=True, download=True, transform=transforms.ToTensor())\n",
        "test_data = FashionMNIST('./fmnist', train=False, download=True, transform=transforms.ToTensor())\n",
        "\n",
        "batch_size = 64\n",
        "\n",
        "train_loader = torch.utils.data.DataLoader(train_data, batch_size=batch_size, shuffle=True)\n",
        "test_loader = torch.utils.data.DataLoader(test_data, batch_size=batch_size, shuffle=True)\n",
        "\n",
        "class ConvNet(torch.nn.Module):\n",
        "    def __init__(self, hidden=64, output=10):\n",
        "        super(ConvNet, self).__init__()        \n",
        "        self.conv1 = torch.nn.Conv2d(1, 4, kernel_size=7, padding=0, stride=3)\n",
        "        self.fc1 = torch.nn.Linear(256, hidden)\n",
        "        self.fc2 = torch.nn.Linear(hidden, output)\n",
        "\n",
        "    def forward(self, x):\n",
        "        x = self.conv1(x)\n",
        "        # the model uses the square activation function\n",
        "        x = x * x\n",
        "        # flattening while keeping the batch axis\n",
        "        x = x.view(-1, 256)\n",
        "        x = self.fc1(x)\n",
        "        x = x * x\n",
        "        x = self.fc2(x)\n",
        "        return x\n",
        "\n",
        "\n",
        "def train(model, train_loader, criterion, optimizer, n_epochs=10):\n",
        "    # model in training mode\n",
        "    model.train()\n",
        "    for epoch in range(1, n_epochs+1):\n",
        "\n",
        "        train_loss = 0.0\n",
        "        for data, target in train_loader:\n",
        "            optimizer.zero_grad()\n",
        "            output = model(data)\n",
        "            loss = criterion(output, target)\n",
        "            loss.backward()\n",
        "            optimizer.step()\n",
        "            train_loss += loss.item()\n",
        "            train_losses.append(loss.item())\n",
        "        # calculate average losses\n",
        "        train_loss = train_loss / len(train_loader)\n",
        "\n",
        "        print('Epoch: {} \\tTraining Loss: {:.6f}'.format(epoch, train_loss))\n",
        "    \n",
        "    # model in evaluation mode\n",
        "    model.eval()\n",
        "    return model\n",
        "\n",
        "\n",
        "model = ConvNet()\n",
        "criterion = torch.nn.CrossEntropyLoss()\n",
        "optimizer = torch.optim.Adam(model.parameters(), lr=0.001)\n",
        "model = train(model, train_loader, criterion, optimizer, 10)\n",
        "\n",
        "\n",
        "plt.plot(train_losses,label=\"train loss\")\n",
        "plt.xlabel(\"iterations\")\n",
        "plt.ylabel(\"Loss\")\n",
        "plt.legend()\n",
        "plt.show()"
      ],
      "execution_count": 4,
      "outputs": [
        {
          "output_type": "stream",
          "text": [
            "Epoch: 1 \tTraining Loss: 0.760458\n",
            "Epoch: 2 \tTraining Loss: 0.470761\n",
            "Epoch: 3 \tTraining Loss: 0.410502\n",
            "Epoch: 4 \tTraining Loss: 0.375903\n",
            "Epoch: 5 \tTraining Loss: 0.353131\n",
            "Epoch: 6 \tTraining Loss: 0.331082\n",
            "Epoch: 7 \tTraining Loss: 0.315705\n",
            "Epoch: 8 \tTraining Loss: 0.302857\n",
            "Epoch: 9 \tTraining Loss: 0.291854\n",
            "Epoch: 10 \tTraining Loss: 0.281041\n"
          ],
          "name": "stdout"
        },
        {
          "output_type": "display_data",
          "data": {
            "image/png": "[encoded data removed]",
            "text/plain": [
              "<Figure size 432x288 with 1 Axes>"
            ]
          },
          "metadata": {
            "tags": [],
            "needs_background": "light"
          }
        }
      ]
    },
    {
      "cell_type": "code",
      "metadata": {
        "colab": {
          "base_uri": "https://localhost:8080/",
          "height": 522
        },
        "id": "8VLnb9v9kwC3",
        "outputId": "3227e265-b7d0-442a-fbb7-0b825eb36aa9"
      },
      "source": [
        "acc = [] \n",
        "def test(model, test_loader, criterion):\n",
        "    # initialize lists to monitor test loss and accuracy\n",
        "    test_loss = 0.0\n",
        "    class_correct = list(0. for i in range(10))\n",
        "    class_total = list(0. for i in range(10))\n",
        "\n",
        "    # model in evaluation mode\n",
        "    model.eval()\n",
        "\n",
        "    for data, target in test_loader:\n",
        "        output = model(data)\n",
        "        loss = criterion(output, target)\n",
        "        test_loss += loss.item()\n",
        "        # convert output probabilities to predicted class\n",
        "        _, pred = torch.max(output, 1)\n",
        "        # compare predictions to true label\n",
        "        correct = np.squeeze(pred.eq(target.data.view_as(pred)))\n",
        "        # calculate test accuracy for each object class\n",
        "        for i in range(len(target)):\n",
        "            label = target.data[i]\n",
        "            class_correct[label] += correct[i].item()\n",
        "            class_total[label] += 1\n",
        "\n",
        "    # calculate and print avg test loss\n",
        "    test_loss = test_loss/len(test_loader)\n",
        "    print(f'Test Loss: {test_loss:.6f}\\n')\n",
        "\n",
        "    for label in range(10):\n",
        "        print(\n",
        "            f'Test Accuracy of {label}: {int(100 * class_correct[label] / class_total[label])}% '\n",
        "            f'({int(np.sum(class_correct[label]))}/{int(np.sum(class_total[label]))})'\n",
        "        )\n",
        "        if(label == 0):\n",
        "          acc.append(0.25)\n",
        "        else:\n",
        "          acc.append(class_correct[label] / class_total[label])\n",
        "\n",
        "    print(\n",
        "        f'\\nTest Accuracy (Overall): {int(100 * np.sum(class_correct) / np.sum(class_total))}% ' \n",
        "        f'({int(np.sum(class_correct))}/{int(np.sum(class_total))})'\n",
        "    )\n",
        "test(model, test_loader, criterion)\n",
        "plt.title(\"Validation Accuracy\")\n",
        "\n",
        "plt.plot(acc,label=\"test\")\n",
        "plt.xlabel(\"iterations\")\n",
        "# plt.ylim(0.5,0.99)\n",
        "plt.xlim(0,10)\n",
        "plt.ylabel(\"Accuracy\")\n",
        "plt.legend()\n",
        "plt.show()\n",
        "# print(acc)"
      ],
      "execution_count": 5,
      "outputs": [
        {
          "output_type": "stream",
          "text": [
            "Test Loss: 0.373542\n",
            "\n",
            "Test Accuracy of 0: 75% (752/1000)\n",
            "Test Accuracy of 1: 96% (964/1000)\n",
            "Test Accuracy of 2: 74% (743/1000)\n",
            "Test Accuracy of 3: 88% (887/1000)\n",
            "Test Accuracy of 4: 82% (822/1000)\n",
            "Test Accuracy of 5: 92% (922/1000)\n",
            "Test Accuracy of 6: 72% (729/1000)\n",
            "Test Accuracy of 7: 95% (952/1000)\n",
            "Test Accuracy of 8: 97% (970/1000)\n",
            "Test Accuracy of 9: 96% (967/1000)\n",
            "\n",
            "Test Accuracy (Overall): 87% (8708/10000)\n"
          ],
          "name": "stdout"
        },
        {
          "output_type": "display_data",
          "data": {
            "image/png": "[encoded data removed]",
            "text/plain": [
              "<Figure size 432x288 with 1 Axes>"
            ]
          },
          "metadata": {
            "tags": [],
            "needs_background": "light"
          }
        }
      ]
    },
    {
      "cell_type": "code",
      "metadata": {
        "colab": {
          "base_uri": "https://localhost:8080/"
        },
        "id": "-yNuyXh_nPpP",
        "outputId": "16ff280b-e1a3-44c6-b70c-4b8ccb2d1781"
      },
      "source": [
        "part_te = torch.utils.data.random_split(test_data, [600, len(test_data)-600])[0]\n",
        "test_loader_split = torch.utils.data.DataLoader(part_te, batch_size=batch_size, shuffle=True)\n",
        "print(len(part_te))"
      ],
      "execution_count": 6,
      "outputs": [
        {
          "output_type": "stream",
          "text": [
            "600\n"
          ],
          "name": "stdout"
        }
      ]
    },
    {
      "cell_type": "code",
      "metadata": {
        "colab": {
          "base_uri": "https://localhost:8080/"
        },
        "id": "L9RLFo2Jna7G",
        "outputId": "dac7f0e6-31d0-43a7-8940-85c6617408f3"
      },
      "source": [
        "!pip install tenseal"
      ],
      "execution_count": 7,
      "outputs": [
        {
          "output_type": "stream",
          "text": [
            "Requirement already satisfied: tenseal in /usr/local/lib/python3.7/dist-packages (0.3.3)\n"
          ],
          "name": "stdout"
        }
      ]
    },
    {
      "cell_type": "code",
      "metadata": {
        "id": "N9LxGlqAnczS"
      },
      "source": [
        "enc_val_loss = []\n",
        "enc_acc = []"
      ],
      "execution_count": 8,
      "outputs": []
    },
    {
      "cell_type": "code",
      "metadata": {
        "id": "wEc6udX-k43P"
      },
      "source": [
        "\n",
        "\"\"\"\n",
        "It's a PyTorch-like model using operations implemented in TenSEAL.\n",
        "    - .mm() method is doing the vector-matrix multiplication explained above.\n",
        "    - you can use + operator to add a plain vector as a bias.\n",
        "    - .conv2d_im2col() method is doing a single convlution operation.\n",
        "    - .square_() just square the encrypted vector inplace.\n",
        "\"\"\"\n",
        "\n",
        "import tenseal as ts\n",
        "\n",
        "\n",
        "class EncConvNet:\n",
        "    def __init__(self, torch_nn):\n",
        "        self.conv1_weight = torch_nn.conv1.weight.data.view(\n",
        "            torch_nn.conv1.out_channels, torch_nn.conv1.kernel_size[0],\n",
        "            torch_nn.conv1.kernel_size[1]\n",
        "        ).tolist()\n",
        "        self.conv1_bias = torch_nn.conv1.bias.data.tolist()\n",
        "        \n",
        "        self.fc1_weight = torch_nn.fc1.weight.T.data.tolist()\n",
        "        self.fc1_bias = torch_nn.fc1.bias.data.tolist()\n",
        "        \n",
        "        self.fc2_weight = torch_nn.fc2.weight.T.data.tolist()\n",
        "        self.fc2_bias = torch_nn.fc2.bias.data.tolist()\n",
        "        \n",
        "        \n",
        "    def forward(self, enc_x, windows_nb):\n",
        "        # conv layer\n",
        "        enc_channels = []\n",
        "        for kernel, bias in zip(self.conv1_weight, self.conv1_bias):\n",
        "            y = enc_x.conv2d_im2col(kernel, windows_nb) + bias\n",
        "            enc_channels.append(y)\n",
        "        # pack all channels into a single flattened vector\n",
        "        enc_x = ts.CKKSVector.pack_vectors(enc_channels)\n",
        "        # square activation\n",
        "        enc_x.square_()\n",
        "        # fc1 layer\n",
        "        enc_x = enc_x.mm(self.fc1_weight) + self.fc1_bias\n",
        "        # square activation\n",
        "        enc_x.square_()\n",
        "        # fc2 layer\n",
        "        enc_x = enc_x.mm(self.fc2_weight) + self.fc2_bias\n",
        "        return enc_x\n",
        "    \n",
        "    def __call__(self, *args, **kwargs):\n",
        "        return self.forward(*args, **kwargs)\n",
        "\n",
        "    \n",
        "def enc_test(context, model, test_loader, criterion, kernel_shape, stride):\n",
        "    # initialize lists to monitor test loss and accuracy\n",
        "    test_loss = 0.0\n",
        "    class_correct = list(0. for i in range(10))\n",
        "    class_total = list(0. for i in range(10))\n",
        "    i = 0\n",
        "    for data, target in test_loader:\n",
        "        # Encoding and encryption\n",
        "        i=i+1\n",
        "        if(i%10 == 0):\n",
        "          \n",
        "          t1 = time.time()\n",
        "          st = datetime.datetime.fromtimestamp(t1).strftime('%H:%M:%S')\n",
        "          print(\"test numbers done: \",i, \"in\",st)\n",
        "        x_enc, windows_nb = ts.im2col_encoding(\n",
        "            context, data.view(28, 28).tolist(), kernel_shape[0],\n",
        "            kernel_shape[1], stride\n",
        "        )\n",
        "        \n",
        "        # Encrypted evaluation\n",
        "        enc_output = enc_model(x_enc, windows_nb)\n",
        "        # Decryption of result\n",
        "        output = enc_output.decrypt()\n",
        "        output = torch.tensor(output).view(1, -1)\n",
        "        \n",
        "        # compute loss\n",
        "        loss = criterion(output, target)\n",
        "        test_loss += loss.item()\n",
        "        enc_val_loss.append(loss.item())\n",
        "        # convert output probabilities to predicted class\n",
        "        _, pred = torch.max(output, 1)\n",
        "        # compare predictions to true label\n",
        "        correct = np.squeeze(pred.eq(target.data.view_as(pred)))\n",
        "        # calculate test accuracy for each object class\n",
        "        label = target.data[0]\n",
        "        class_correct[label] += correct.item()\n",
        "        class_total[label] += 1\n",
        "\n",
        "\n",
        "    # calculate and print avg test loss\n",
        "    test_loss = test_loss / sum(class_total)\n",
        "    print(f'Test Loss: {test_loss:.6f}\\n')\n",
        "\n",
        "    for label in range(10):\n",
        "        print(\n",
        "            f'Test Accuracy of {label}: {int(100 * class_correct[label] / class_total[label])}% '\n",
        "            f'({int(np.sum(class_correct[label]))}/{int(np.sum(class_total[label]))})'\n",
        "        )\n",
        "        if(label == 0):\n",
        "          enc_acc.append(0)\n",
        "        else:\n",
        "          enc_acc.append(class_correct[label] / class_total[label])\n",
        "        \n",
        "\n",
        "    print(\n",
        "        f'\\nTest Accuracy (Overall): {int(100 * np.sum(class_correct) / np.sum(class_total))}% ' \n",
        "        f'({int(np.sum(class_correct))}/{int(np.sum(class_total))})'\n",
        "    )\n",
        "\n",
        "\n",
        "# Load one element at a time\n",
        "test_loader = torch.utils.data.DataLoader(part_te, batch_size=1, shuffle=True)\n",
        "# required for encoding\n",
        "kernel_shape = model.conv1.kernel_size\n",
        "stride = model.conv1.stride[0]"
      ],
      "execution_count": 9,
      "outputs": []
    },
    {
      "cell_type": "code",
      "metadata": {
        "id": "CEhUtIP3lBnA"
      },
      "source": [
        "## Encryption Parameters\n",
        "\n",
        "# controls precision of the fractional part\n",
        "bits_scale = 26\n",
        "\n",
        "# Create TenSEAL context\n",
        "context = ts.context(\n",
        "    ts.SCHEME_TYPE.CKKS,\n",
        "    poly_modulus_degree=8192,\n",
        "    coeff_mod_bit_sizes=[31, bits_scale, bits_scale, bits_scale, bits_scale, bits_scale, bits_scale, 31]\n",
        ")\n",
        "\n",
        "# set the scale\n",
        "context.global_scale = pow(2, bits_scale)\n",
        "\n",
        "# galois keys are required to do ciphertext rotations\n",
        "context.generate_galois_keys()"
      ],
      "execution_count": 10,
      "outputs": []
    },
    {
      "cell_type": "code",
      "metadata": {
        "colab": {
          "base_uri": "https://localhost:8080/"
        },
        "id": "RG27mcc2lE3x",
        "outputId": "dcf4977f-4fee-4ade-b107-8f03ad37a88a"
      },
      "source": [
        "\n",
        "enc_model = EncConvNet(model)\n",
        "enc_test(context, enc_model, test_loader, criterion, kernel_shape, stride)"
      ],
      "execution_count": 11,
      "outputs": [
        {
          "output_type": "stream",
          "text": [
            "test numbers done:  10 in 14:06:38\n",
            "test numbers done:  20 in 14:07:29\n",
            "test numbers done:  30 in 14:08:20\n",
            "test numbers done:  40 in 14:09:11\n",
            "test numbers done:  50 in 14:10:02\n",
            "test numbers done:  60 in 14:10:52\n",
            "test numbers done:  70 in 14:11:43\n",
            "test numbers done:  80 in 14:12:34\n",
            "test numbers done:  90 in 14:13:25\n",
            "test numbers done:  100 in 14:14:17\n",
            "test numbers done:  110 in 14:15:08\n",
            "test numbers done:  120 in 14:15:59\n",
            "test numbers done:  130 in 14:16:50\n",
            "test numbers done:  140 in 14:17:42\n",
            "test numbers done:  150 in 14:18:33\n",
            "test numbers done:  160 in 14:19:25\n",
            "test numbers done:  170 in 14:20:16\n",
            "test numbers done:  180 in 14:21:07\n",
            "test numbers done:  190 in 14:21:58\n",
            "test numbers done:  200 in 14:22:49\n",
            "test numbers done:  210 in 14:23:40\n",
            "test numbers done:  220 in 14:24:31\n",
            "test numbers done:  230 in 14:25:22\n",
            "test numbers done:  240 in 14:26:13\n",
            "test numbers done:  250 in 14:27:04\n",
            "test numbers done:  260 in 14:27:55\n",
            "test numbers done:  270 in 14:28:46\n",
            "test numbers done:  280 in 14:29:37\n",
            "test numbers done:  290 in 14:30:28\n",
            "test numbers done:  300 in 14:31:19\n",
            "test numbers done:  310 in 14:32:10\n",
            "test numbers done:  320 in 14:33:01\n",
            "test numbers done:  330 in 14:33:52\n",
            "test numbers done:  340 in 14:34:43\n",
            "test numbers done:  350 in 14:35:34\n",
            "test numbers done:  360 in 14:36:26\n",
            "test numbers done:  370 in 14:37:17\n",
            "test numbers done:  380 in 14:38:08\n",
            "test numbers done:  390 in 14:38:59\n",
            "test numbers done:  400 in 14:39:50\n",
            "test numbers done:  410 in 14:40:41\n",
            "test numbers done:  420 in 14:41:32\n",
            "test numbers done:  430 in 14:42:23\n",
            "test numbers done:  440 in 14:43:14\n",
            "test numbers done:  450 in 14:44:05\n",
            "test numbers done:  460 in 14:44:56\n",
            "test numbers done:  470 in 14:45:47\n",
            "test numbers done:  480 in 14:46:38\n",
            "test numbers done:  490 in 14:47:30\n",
            "test numbers done:  500 in 14:48:21\n",
            "test numbers done:  510 in 14:49:12\n",
            "test numbers done:  520 in 14:50:03\n",
            "test numbers done:  530 in 14:50:55\n",
            "test numbers done:  540 in 14:51:46\n",
            "test numbers done:  550 in 14:52:37\n",
            "test numbers done:  560 in 14:53:29\n",
            "test numbers done:  570 in 14:54:20\n",
            "test numbers done:  580 in 14:55:11\n",
            "test numbers done:  590 in 14:56:03\n",
            "test numbers done:  600 in 14:56:54\n",
            "Test Loss: 0.337720\n",
            "\n",
            "Test Accuracy of 0: 76% (52/68)\n",
            "Test Accuracy of 1: 93% (58/62)\n",
            "Test Accuracy of 2: 71% (43/60)\n",
            "Test Accuracy of 3: 96% (53/55)\n",
            "Test Accuracy of 4: 80% (42/52)\n",
            "Test Accuracy of 5: 90% (55/61)\n",
            "Test Accuracy of 6: 80% (37/46)\n",
            "Test Accuracy of 7: 94% (69/73)\n",
            "Test Accuracy of 8: 100% (58/58)\n",
            "Test Accuracy of 9: 98% (64/65)\n",
            "\n",
            "Test Accuracy (Overall): 88% (531/600)\n"
          ],
          "name": "stdout"
        }
      ]
    },
    {
      "cell_type": "code",
      "metadata": {
        "colab": {
          "base_uri": "https://localhost:8080/",
          "height": 350
        },
        "id": "ojiRnul3tAmI",
        "outputId": "070e7ed9-3606-4fb5-c5c8-d66bb71a97cf"
      },
      "source": [
        "plt.figure(figsize=(10,5))\n",
        "plt.title(\"Encryption Validation Loss\")\n",
        "\n",
        "plt.plot(enc_val_loss,label=\"train\")\n",
        "plt.xlabel(\"iterations\")\n",
        "plt.ylabel(\"Loss\")\n",
        "plt.legend()\n",
        "plt.show()"
      ],
      "execution_count": 12,
      "outputs": [
        {
          "output_type": "display_data",
          "data": {
            "image/png": "[encoded data removed]",
            "text/plain": [
              "<Figure size 720x360 with 1 Axes>"
            ]
          },
          "metadata": {
            "tags": [],
            "needs_background": "light"
          }
        }
      ]
    },
    {
      "cell_type": "code",
      "metadata": {
        "colab": {
          "base_uri": "https://localhost:8080/",
          "height": 350
        },
        "id": "OJ7yYBRWtBuZ",
        "outputId": "b068acf2-27ed-49d5-a692-b5eb06a5ab43"
      },
      "source": [
        "plt.figure(figsize=(10,5))\n",
        "plt.title(\"F-Mnist Encryption accuracy\")\n",
        "\n",
        "plt.plot(enc_acc,label=\"enc\")\n",
        "plt.plot(acc,label = \"base\")\n",
        "plt.xlabel(\"iterations\")\n",
        "plt.ylabel(\"Loss\")\n",
        "plt.legend()\n",
        "plt.show()"
      ],
      "execution_count": 14,
      "outputs": [
        {
          "output_type": "display_data",
          "data": {
            "image/png": "[encoded data removed]",
            "text/plain": [
              "<Figure size 720x360 with 1 Axes>"
            ]
          },
          "metadata": {
            "tags": [],
            "needs_background": "light"
          }
        }
      ]
    }
  ]
}